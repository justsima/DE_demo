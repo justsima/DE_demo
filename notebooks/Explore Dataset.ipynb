{
 "cells": [
  {
   "cell_type": "markdown",
   "metadata": {},
   "source": [
    "# Introduction to the Data Engineering Pipeline Project\n",
    "\n",
    "In this project, we will design and implement a **robust data pipeline** to process, clean, and analyze data from multiple sources. The project simulates a real-world scenario where an e-commerce company processes large-scale **batch data** for analytics purposes.\n",
    "\n",
    "### Objective:\n",
    "- Build an end-to-end **data pipeline** for data ingestion, transformation, storage, and analysis.\n",
    "- Showcase proficiency in **Python (Pandas)** for data processing and **PostgreSQL** for data storage and querying.\n",
    "- Ensure **data quality**, **consistency**, and **scalability** throughout the pipeline stages.\n",
    "\n",
    "### Dataset Overview:\n",
    "We are provided with **three raw datasets** in CSV format:\n",
    "1. **transactions.csv**: Contains transactional data, including purchases, quantities, and prices.\n",
    "2. **users.csv**: Includes customer demographic details such as age, signup date, and location.\n",
    "3. **products.csv**: Contains product metadata like category, brand, and price.\n",
    "\n",
    "### Project Goals:\n",
    "1. **Data Ingestion:** Load raw datasets into Pandas for initial analysis.\n",
    "2. **Data Transformation:** Clean and transform the datasets to ensure consistency and correctness.\n",
    "3. **Data Storage:** Store validated data into a PostgreSQL database staging area.\n",
    "4. **SQL Analysis:** Run analytical SQL queries to derive business insights.\n",
    "5. **Optimization:** Optimize the data pipeline for better performance.\n",
    "6. **Documentation:** Provide clear and concise documentation for reproducibility.\n",
    "\n",
    "Each step will be clearly defined, with actionable tasks, accompanying code, and validation checkpoints to ensure correctness before moving to the next stage.\n",
    "\n",
    "The following **Table of Contents (TOC)** outlines the key steps in this project.\n"
   ]
  },
  {
   "cell_type": "markdown",
   "metadata": {},
   "source": [
    "# Step 1: Data Ingestion Pipeline\n",
    "\n",
    "\n",
    "---"
   ]
  },
  {
   "cell_type": "markdown",
   "metadata": {},
   "source": [
    "### 1. Import & Simple EDA\n",
    "Reads CSV files into Pandas DataFrames for transactions, users, and products.\n",
    "and show a very simple and well formatted EDA to understand the data."
   ]
  },
  {
   "cell_type": "code",
   "execution_count": 1,
   "metadata": {},
   "outputs": [
    {
     "name": "stdout",
     "output_type": "stream",
     "text": [
      "============================================================\n",
      "EDA Summary for Dataset: Transactions\n",
      "============================================================\n",
      "Shape: 10000 rows × 7 columns\n",
      "\n",
      "Column Data Types:\n",
      "TransactionID       object\n",
      "CustomerID          object\n",
      "ProductID           object\n",
      "Category            object\n",
      "Quantity             int64\n",
      "Price              float64\n",
      "TransactionDate     object\n",
      "\n",
      "Missing Values (Count & Percentage):\n",
      "                 Missing Count  Missing Percentage\n",
      "TransactionID                0                 0.0\n",
      "CustomerID                   0                 0.0\n",
      "ProductID                    0                 0.0\n",
      "Category                     0                 0.0\n",
      "Quantity                     0                 0.0\n",
      "Price                        0                 0.0\n",
      "TransactionDate              0                 0.0\n",
      "\n",
      "Statistical Summary (Numerical Columns):\n",
      "           Quantity         Price\n",
      "count  10000.000000  10000.000000\n",
      "mean       2.979900    255.434608\n",
      "std        1.409785    141.048821\n",
      "min        1.000000     10.080000\n",
      "25%        2.000000    134.727500\n",
      "50%        3.000000    256.240000\n",
      "75%        4.000000    376.895000\n",
      "max        5.000000    500.000000\n",
      "\n",
      "Sample Rows:\n",
      "TransactionID CustomerID ProductID    Category  Quantity  Price     TransactionDate\n",
      "      T000001      C3025    P00447      Sports         3 421.00 2024-04-22T10:24:22\n",
      "      T000002      C1947    P00707   Groceries         5 274.89 2024-05-03T14:42:23\n",
      "      T000003      C2163    P00561   Groceries         1 496.08 2024-06-14T22:07:18\n",
      "      T000004      C4859    P00168 Electronics         2  56.75 2024-02-22T02:06:49\n",
      "      T000005      C3592    P00806   Groceries         4 205.17 2024-01-01T14:50:28\n",
      "============================================================ \n",
      "\n",
      "============================================================\n",
      "EDA Summary for Dataset: Users\n",
      "============================================================\n",
      "Shape: 5000 rows × 6 columns\n",
      "\n",
      "Column Data Types:\n",
      "CustomerID    object\n",
      "Name          object\n",
      "Email         object\n",
      "Age            int64\n",
      "Country       object\n",
      "SignupDate    object\n",
      "\n",
      "Missing Values (Count & Percentage):\n",
      "            Missing Count  Missing Percentage\n",
      "CustomerID              0                 0.0\n",
      "Name                    0                 0.0\n",
      "Email                   0                 0.0\n",
      "Age                     0                 0.0\n",
      "Country                 0                 0.0\n",
      "SignupDate              0                 0.0\n",
      "\n",
      "Statistical Summary (Numerical Columns):\n",
      "               Age\n",
      "count  5000.000000\n",
      "mean     41.368400\n",
      "std      13.988117\n",
      "min      18.000000\n",
      "25%      29.000000\n",
      "50%      41.000000\n",
      "75%      54.000000\n",
      "max      65.000000\n",
      "\n",
      "Sample Rows:\n",
      "CustomerID             Name                        Email  Age Country SignupDate\n",
      "     C0001     Kyle Trevino wallaceamanda@garcia-kim.com   54 Germany 2020-10-15\n",
      "     C0002   Brianna Taylor       danielfisher@gmail.com   45     USA 2021-06-02\n",
      "     C0003      Eric Larsen       riverajoshua@davis.com   25  Canada 2021-03-08\n",
      "     C0004 Zachary Campbell        robertbrown@clark.com   49   India 2023-04-12\n",
      "     C0005 Jesse Cunningham           taylor85@gmail.com   20 Germany 2022-08-24\n",
      "============================================================ \n",
      "\n",
      "============================================================\n",
      "EDA Summary for Dataset: Products\n",
      "============================================================\n",
      "Shape: 1000 rows × 6 columns\n",
      "\n",
      "Column Data Types:\n",
      "ProductID         object\n",
      "ProductName       object\n",
      "Category          object\n",
      "Brand             object\n",
      "Price            float64\n",
      "StockQuantity      int64\n",
      "\n",
      "Missing Values (Count & Percentage):\n",
      "               Missing Count  Missing Percentage\n",
      "ProductID                  0                 0.0\n",
      "ProductName                1                 0.1\n",
      "Category                   0                 0.0\n",
      "Brand                      0                 0.0\n",
      "Price                      0                 0.0\n",
      "StockQuantity              0                 0.0\n",
      "\n",
      "Statistical Summary (Numerical Columns):\n",
      "             Price  StockQuantity\n",
      "count  1000.000000     1000.00000\n",
      "mean    999.321950      501.14200\n",
      "std     572.851069      286.03688\n",
      "min      11.460000       10.00000\n",
      "25%     480.120000      251.00000\n",
      "50%     991.850000      498.00000\n",
      "75%    1500.830000      746.25000\n",
      "max    1998.450000     1000.00000\n",
      "\n",
      "Sample Rows:\n",
      "ProductID ProductName        Category                      Brand   Price  StockQuantity\n",
      "   P00001     Machine         Fashion           Stewart and Sons  560.83            451\n",
      "   P00002      Chance Home Appliances Bailey, Martinez and Blair 1480.03            503\n",
      "   P00003       Speak     Electronics    Jenkins, Perry and Cook  261.54            559\n",
      "   P00004      Entire         Fashion            Rodriguez Group 1600.32            364\n",
      "   P00005     Medical          Sports                  Wells-Lee   97.81             32\n",
      "============================================================ \n",
      "\n"
     ]
    }
   ],
   "source": [
    "# Import \n",
    "import pandas as pd\n",
    "\n",
    "# Load datasets \n",
    "transactions_df = pd.read_csv('C:/Users/asaye/Documents/Data Engineering/Take Home Assignment/DE Task/DE_demo/data/transactions.csv')\n",
    "users_df = pd.read_csv('C:/Users/asaye/Documents/Data Engineering/Take Home Assignment/DE Task/DE_demo/data/users.csv')\n",
    "products_df = pd.read_csv('C:/Users/asaye/Documents/Data Engineering/Take Home Assignment/DE Task/DE_demo/data/products.csv')\n",
    "\n",
    "# Function to display EDA results in an organized format\n",
    "def display_eda_summary(df, dataset_name):\n",
    "    print(\"=\"*60) \n",
    "    print(f\"EDA Summary for Dataset: {dataset_name}\")\n",
    "    print(\"=\"*60)\n",
    "    print(f\"Shape: {df.shape[0]} rows × {df.shape[1]} columns\")\n",
    "    print(\"\\nColumn Data Types:\")\n",
    "    print(df.dtypes.to_string())\n",
    "    # Missing values\n",
    "    print(\"\\nMissing Values (Count & Percentage):\")\n",
    "    missing_values = df.isnull().sum()\n",
    "    missing_percentage = (df.isnull().sum() / len(df)) * 100\n",
    "    missing_summary = pd.DataFrame({\n",
    "        'Missing Count': missing_values,\n",
    "        'Missing Percentage': missing_percentage\n",
    "    })\n",
    "    print(missing_summary.to_string())\n",
    "    # Statistical summary\n",
    "    print(\"\\nStatistical Summary (Numerical Columns):\")\n",
    "    print(df.describe().to_string())\n",
    "    # Display sample rows\n",
    "    print(\"\\nSample Rows:\")\n",
    "    print(df.head().to_string(index=False))\n",
    "    print(\"=\"*60, \"\\n\")\n",
    "# Run EDA for each dataset\n",
    "display_eda_summary(transactions_df, \"Transactions\")\n",
    "display_eda_summary(users_df, \"Users\")\n",
    "display_eda_summary(products_df, \"Products\")\n"
   ]
  },
  {
   "cell_type": "markdown",
   "metadata": {},
   "source": [
    "### Convert date columns to datetime format and remove rows with invalid or missing date values\n",
    "- Converts 'TransactionDate' in `transactions_df` and 'SignupDate' in `users_df` to datetime format.\n",
    "- Removes rows with invalid or missing date values in both DataFrames."
   ]
  },
  {
   "cell_type": "code",
   "execution_count": 2,
   "metadata": {},
   "outputs": [],
   "source": [
    "transactions_df['TransactionDate'] = pd.to_datetime(transactions_df['TransactionDate'], errors='coerce')\n",
    "users_df['SignupDate'] = pd.to_datetime(users_df['SignupDate'], errors='coerce')\n",
    "transactions_df.dropna(subset=['TransactionDate'], inplace=True)\n",
    "users_df.dropna(subset=['SignupDate'], inplace=True)"
   ]
  },
  {
   "cell_type": "code",
   "execution_count": 3,
   "metadata": {},
   "outputs": [],
   "source": [
    "# Validate foreign key relationships\n",
    "valid_customers = set(users_df['CustomerID'])\n",
    "valid_products = set(products_df['ProductID'])\n",
    "\n",
    "# Remove invalid foreign key references\n",
    "transactions_df = transactions_df[\n",
    "    transactions_df['CustomerID'].isin(valid_customers) &\n",
    "    transactions_df['ProductID'].isin(valid_products)\n",
    "]"
   ]
  },
  {
   "cell_type": "code",
   "execution_count": 4,
   "metadata": {},
   "outputs": [
    {
     "name": "stdout",
     "output_type": "stream",
     "text": [
      "TransactionID              object\n",
      "CustomerID                 object\n",
      "ProductID                  object\n",
      "Category                   object\n",
      "Quantity                    int64\n",
      "Price                     float64\n",
      "TransactionDate    datetime64[ns]\n",
      "dtype: object\n",
      "CustomerID            object\n",
      "Name                  object\n",
      "Email                 object\n",
      "Age                    int64\n",
      "Country               object\n",
      "SignupDate    datetime64[ns]\n",
      "dtype: object\n",
      "ProductID         object\n",
      "ProductName       object\n",
      "Category          object\n",
      "Brand             object\n",
      "Price            float64\n",
      "StockQuantity      int64\n",
      "dtype: object\n",
      "10000\n",
      "5000\n",
      "1000\n"
     ]
    }
   ],
   "source": [
    "# Verify column data types\n",
    "print(transactions_df.dtypes)\n",
    "print(users_df.dtypes)\n",
    "print(products_df.dtypes)\n",
    "\n",
    "# Display final row counts\n",
    "print(len(transactions_df))\n",
    "print(len(users_df))\n",
    "print(len(products_df))"
   ]
  },
  {
   "cell_type": "markdown",
   "metadata": {},
   "source": [
    "### Before testing the databae connection lets create the database, the tables and all the roles with privilleges. \n",
    "#### Check database connection into PostgreSQL"
   ]
  },
  {
   "cell_type": "code",
   "execution_count": 5,
   "metadata": {},
   "outputs": [
    {
     "name": "stdout",
     "output_type": "stream",
     "text": [
      "Connection to PostgreSQL is successful.\n"
     ]
    }
   ],
   "source": [
    "from sqlalchemy import create_engine, text\n",
    "from dotenv import load_dotenv\n",
    "import os\n",
    "\n",
    "# Load environment variables from .env file\n",
    "load_dotenv()\n",
    "\n",
    "# Get PostgreSQL configuration from environment variables\n",
    "DB_USER = os.getenv('POSTGRES_USER')\n",
    "DB_PASSWORD = os.getenv('POSTGRES_PASSWORD')\n",
    "DB_HOST = os.getenv('POSTGRES_HOST')\n",
    "DB_PORT = os.getenv('POSTGRES_PORT')\n",
    "DB_NAME = os.getenv('POSTGRES_DB')\n",
    "\n",
    "# Create SQLAlchemy Engine\n",
    "engine = create_engine(f'postgresql://{DB_USER}:{DB_PASSWORD}@{DB_HOST}:{DB_PORT}/{DB_NAME}')\n",
    "\n",
    "# Test Connection\n",
    "try:\n",
    "    with engine.connect() as connection:\n",
    "        result = connection.execute(text('SELECT 1;'))\n",
    "        print(\"Connection to PostgreSQL is successful.\")\n",
    "except Exception as e:\n",
    "    print(f\"Connection failed: {e}\")"
   ]
  },
  {
   "cell_type": "markdown",
   "metadata": {},
   "source": [
    "## Now let us load the cleaned dataframes into Postgres Databases\n",
    "### !!! Before loading the data i have executed the sql file to create the database and the stg_tables."
   ]
  },
  {
   "cell_type": "code",
   "execution_count": 6,
   "metadata": {},
   "outputs": [
    {
     "name": "stdout",
     "output_type": "stream",
     "text": [
      "Data loaded into staging tables successfully.\n"
     ]
    }
   ],
   "source": [
    "# Load datasets into PostgreSQL staging tables\n",
    "try:\n",
    "    transactions_df.to_sql('stg_transactions', con=engine, if_exists='replace', index=False)\n",
    "    users_df.to_sql('stg_users', con=engine, if_exists='replace', index=False)\n",
    "    products_df.to_sql('stg_products', con=engine, if_exists='replace', index=False)\n",
    "    print(\"Data loaded into staging tables successfully.\")\n",
    "except Exception as e:\n",
    "    print(f\"Error loading data into staging tables: {e}\")\n"
   ]
  },
  {
   "cell_type": "code",
   "execution_count": 7,
   "metadata": {},
   "outputs": [
    {
     "name": "stdout",
     "output_type": "stream",
     "text": [
      "Table stg_transactions has 10000 rows.\n",
      "Table stg_users has 5000 rows.\n",
      "Table stg_products has 1000 rows.\n"
     ]
    }
   ],
   "source": [
    "# Verify row counts in staging tables\n",
    "try:\n",
    "    with engine.connect() as connection:\n",
    "        for table in ['stg_transactions', 'stg_users', 'stg_products']:\n",
    "            result = connection.execute(text(f\"SELECT COUNT(*) FROM {table};\"))\n",
    "            count = result.scalar()\n",
    "            print(f\"Table {table} has {count} rows.\")\n",
    "except Exception as e:\n",
    "    print(f\"Error verifying staging table data: {e}\")\n"
   ]
  },
  {
   "cell_type": "code",
   "execution_count": 8,
   "metadata": {},
   "outputs": [
    {
     "name": "stdout",
     "output_type": "stream",
     "text": [
      "✅ Data preview loaded successfully\n"
     ]
    },
    {
     "data": {
      "text/html": [
       "<div>\n",
       "<style scoped>\n",
       "    .dataframe tbody tr th:only-of-type {\n",
       "        vertical-align: middle;\n",
       "    }\n",
       "\n",
       "    .dataframe tbody tr th {\n",
       "        vertical-align: top;\n",
       "    }\n",
       "\n",
       "    .dataframe thead th {\n",
       "        text-align: right;\n",
       "    }\n",
       "</style>\n",
       "<table border=\"1\" class=\"dataframe\">\n",
       "  <thead>\n",
       "    <tr style=\"text-align: right;\">\n",
       "      <th></th>\n",
       "      <th>TransactionID</th>\n",
       "      <th>CustomerID</th>\n",
       "      <th>ProductID</th>\n",
       "      <th>Category</th>\n",
       "      <th>Quantity</th>\n",
       "      <th>Price</th>\n",
       "      <th>TransactionDate</th>\n",
       "    </tr>\n",
       "  </thead>\n",
       "  <tbody>\n",
       "    <tr>\n",
       "      <th>0</th>\n",
       "      <td>T000001</td>\n",
       "      <td>C3025</td>\n",
       "      <td>P00447</td>\n",
       "      <td>Sports</td>\n",
       "      <td>3</td>\n",
       "      <td>421.00</td>\n",
       "      <td>2024-04-22 10:24:22</td>\n",
       "    </tr>\n",
       "    <tr>\n",
       "      <th>1</th>\n",
       "      <td>T000002</td>\n",
       "      <td>C1947</td>\n",
       "      <td>P00707</td>\n",
       "      <td>Groceries</td>\n",
       "      <td>5</td>\n",
       "      <td>274.89</td>\n",
       "      <td>2024-05-03 14:42:23</td>\n",
       "    </tr>\n",
       "    <tr>\n",
       "      <th>2</th>\n",
       "      <td>T000003</td>\n",
       "      <td>C2163</td>\n",
       "      <td>P00561</td>\n",
       "      <td>Groceries</td>\n",
       "      <td>1</td>\n",
       "      <td>496.08</td>\n",
       "      <td>2024-06-14 22:07:18</td>\n",
       "    </tr>\n",
       "    <tr>\n",
       "      <th>3</th>\n",
       "      <td>T000004</td>\n",
       "      <td>C4859</td>\n",
       "      <td>P00168</td>\n",
       "      <td>Electronics</td>\n",
       "      <td>2</td>\n",
       "      <td>56.75</td>\n",
       "      <td>2024-02-22 02:06:49</td>\n",
       "    </tr>\n",
       "    <tr>\n",
       "      <th>4</th>\n",
       "      <td>T000005</td>\n",
       "      <td>C3592</td>\n",
       "      <td>P00806</td>\n",
       "      <td>Groceries</td>\n",
       "      <td>4</td>\n",
       "      <td>205.17</td>\n",
       "      <td>2024-01-01 14:50:28</td>\n",
       "    </tr>\n",
       "  </tbody>\n",
       "</table>\n",
       "</div>"
      ],
      "text/plain": [
       "  TransactionID CustomerID ProductID     Category  Quantity   Price  \\\n",
       "0       T000001      C3025    P00447       Sports         3  421.00   \n",
       "1       T000002      C1947    P00707    Groceries         5  274.89   \n",
       "2       T000003      C2163    P00561    Groceries         1  496.08   \n",
       "3       T000004      C4859    P00168  Electronics         2   56.75   \n",
       "4       T000005      C3592    P00806    Groceries         4  205.17   \n",
       "\n",
       "      TransactionDate  \n",
       "0 2024-04-22 10:24:22  \n",
       "1 2024-05-03 14:42:23  \n",
       "2 2024-06-14 22:07:18  \n",
       "3 2024-02-22 02:06:49  \n",
       "4 2024-01-01 14:50:28  "
      ]
     },
     "metadata": {},
     "output_type": "display_data"
    },
    {
     "data": {
      "text/html": [
       "<div>\n",
       "<style scoped>\n",
       "    .dataframe tbody tr th:only-of-type {\n",
       "        vertical-align: middle;\n",
       "    }\n",
       "\n",
       "    .dataframe tbody tr th {\n",
       "        vertical-align: top;\n",
       "    }\n",
       "\n",
       "    .dataframe thead th {\n",
       "        text-align: right;\n",
       "    }\n",
       "</style>\n",
       "<table border=\"1\" class=\"dataframe\">\n",
       "  <thead>\n",
       "    <tr style=\"text-align: right;\">\n",
       "      <th></th>\n",
       "      <th>CustomerID</th>\n",
       "      <th>Name</th>\n",
       "      <th>Email</th>\n",
       "      <th>Age</th>\n",
       "      <th>Country</th>\n",
       "      <th>SignupDate</th>\n",
       "    </tr>\n",
       "  </thead>\n",
       "  <tbody>\n",
       "    <tr>\n",
       "      <th>0</th>\n",
       "      <td>C0001</td>\n",
       "      <td>Kyle Trevino</td>\n",
       "      <td>wallaceamanda@garcia-kim.com</td>\n",
       "      <td>54</td>\n",
       "      <td>Germany</td>\n",
       "      <td>2020-10-15</td>\n",
       "    </tr>\n",
       "    <tr>\n",
       "      <th>1</th>\n",
       "      <td>C0002</td>\n",
       "      <td>Brianna Taylor</td>\n",
       "      <td>danielfisher@gmail.com</td>\n",
       "      <td>45</td>\n",
       "      <td>USA</td>\n",
       "      <td>2021-06-02</td>\n",
       "    </tr>\n",
       "    <tr>\n",
       "      <th>2</th>\n",
       "      <td>C0003</td>\n",
       "      <td>Eric Larsen</td>\n",
       "      <td>riverajoshua@davis.com</td>\n",
       "      <td>25</td>\n",
       "      <td>Canada</td>\n",
       "      <td>2021-03-08</td>\n",
       "    </tr>\n",
       "    <tr>\n",
       "      <th>3</th>\n",
       "      <td>C0004</td>\n",
       "      <td>Zachary Campbell</td>\n",
       "      <td>robertbrown@clark.com</td>\n",
       "      <td>49</td>\n",
       "      <td>India</td>\n",
       "      <td>2023-04-12</td>\n",
       "    </tr>\n",
       "    <tr>\n",
       "      <th>4</th>\n",
       "      <td>C0005</td>\n",
       "      <td>Jesse Cunningham</td>\n",
       "      <td>taylor85@gmail.com</td>\n",
       "      <td>20</td>\n",
       "      <td>Germany</td>\n",
       "      <td>2022-08-24</td>\n",
       "    </tr>\n",
       "  </tbody>\n",
       "</table>\n",
       "</div>"
      ],
      "text/plain": [
       "  CustomerID              Name                         Email  Age  Country  \\\n",
       "0      C0001      Kyle Trevino  wallaceamanda@garcia-kim.com   54  Germany   \n",
       "1      C0002    Brianna Taylor        danielfisher@gmail.com   45      USA   \n",
       "2      C0003       Eric Larsen        riverajoshua@davis.com   25   Canada   \n",
       "3      C0004  Zachary Campbell         robertbrown@clark.com   49    India   \n",
       "4      C0005  Jesse Cunningham            taylor85@gmail.com   20  Germany   \n",
       "\n",
       "  SignupDate  \n",
       "0 2020-10-15  \n",
       "1 2021-06-02  \n",
       "2 2021-03-08  \n",
       "3 2023-04-12  \n",
       "4 2022-08-24  "
      ]
     },
     "metadata": {},
     "output_type": "display_data"
    },
    {
     "data": {
      "text/html": [
       "<div>\n",
       "<style scoped>\n",
       "    .dataframe tbody tr th:only-of-type {\n",
       "        vertical-align: middle;\n",
       "    }\n",
       "\n",
       "    .dataframe tbody tr th {\n",
       "        vertical-align: top;\n",
       "    }\n",
       "\n",
       "    .dataframe thead th {\n",
       "        text-align: right;\n",
       "    }\n",
       "</style>\n",
       "<table border=\"1\" class=\"dataframe\">\n",
       "  <thead>\n",
       "    <tr style=\"text-align: right;\">\n",
       "      <th></th>\n",
       "      <th>ProductID</th>\n",
       "      <th>ProductName</th>\n",
       "      <th>Category</th>\n",
       "      <th>Brand</th>\n",
       "      <th>Price</th>\n",
       "      <th>StockQuantity</th>\n",
       "    </tr>\n",
       "  </thead>\n",
       "  <tbody>\n",
       "    <tr>\n",
       "      <th>0</th>\n",
       "      <td>P00001</td>\n",
       "      <td>Machine</td>\n",
       "      <td>Fashion</td>\n",
       "      <td>Stewart and Sons</td>\n",
       "      <td>560.83</td>\n",
       "      <td>451</td>\n",
       "    </tr>\n",
       "    <tr>\n",
       "      <th>1</th>\n",
       "      <td>P00002</td>\n",
       "      <td>Chance</td>\n",
       "      <td>Home Appliances</td>\n",
       "      <td>Bailey, Martinez and Blair</td>\n",
       "      <td>1480.03</td>\n",
       "      <td>503</td>\n",
       "    </tr>\n",
       "    <tr>\n",
       "      <th>2</th>\n",
       "      <td>P00003</td>\n",
       "      <td>Speak</td>\n",
       "      <td>Electronics</td>\n",
       "      <td>Jenkins, Perry and Cook</td>\n",
       "      <td>261.54</td>\n",
       "      <td>559</td>\n",
       "    </tr>\n",
       "    <tr>\n",
       "      <th>3</th>\n",
       "      <td>P00004</td>\n",
       "      <td>Entire</td>\n",
       "      <td>Fashion</td>\n",
       "      <td>Rodriguez Group</td>\n",
       "      <td>1600.32</td>\n",
       "      <td>364</td>\n",
       "    </tr>\n",
       "    <tr>\n",
       "      <th>4</th>\n",
       "      <td>P00005</td>\n",
       "      <td>Medical</td>\n",
       "      <td>Sports</td>\n",
       "      <td>Wells-Lee</td>\n",
       "      <td>97.81</td>\n",
       "      <td>32</td>\n",
       "    </tr>\n",
       "  </tbody>\n",
       "</table>\n",
       "</div>"
      ],
      "text/plain": [
       "  ProductID ProductName         Category                       Brand    Price  \\\n",
       "0    P00001     Machine          Fashion            Stewart and Sons   560.83   \n",
       "1    P00002      Chance  Home Appliances  Bailey, Martinez and Blair  1480.03   \n",
       "2    P00003       Speak      Electronics     Jenkins, Perry and Cook   261.54   \n",
       "3    P00004      Entire          Fashion             Rodriguez Group  1600.32   \n",
       "4    P00005     Medical           Sports                   Wells-Lee    97.81   \n",
       "\n",
       "   StockQuantity  \n",
       "0            451  \n",
       "1            503  \n",
       "2            559  \n",
       "3            364  \n",
       "4             32  "
      ]
     },
     "metadata": {},
     "output_type": "display_data"
    }
   ],
   "source": [
    "# Preview data from staging tables\n",
    "try:\n",
    "    transactions_preview = pd.read_sql_query(\"SELECT * FROM stg_transactions LIMIT 5\", con=engine)\n",
    "    users_preview = pd.read_sql_query(\"SELECT * FROM stg_users LIMIT 5\", con=engine)\n",
    "    products_preview = pd.read_sql_query(\"SELECT * FROM stg_products LIMIT 5\", con=engine)\n",
    "\n",
    "    print(\"✅ Data preview loaded successfully\")\n",
    "    display(transactions_preview)\n",
    "    display(users_preview)\n",
    "    display(products_preview)\n",
    "except Exception as e:\n",
    "    print(f\"❌ Error previewing data from staging tables: {e}\")\n"
   ]
  },
  {
   "cell_type": "markdown",
   "metadata": {},
   "source": [
    "## On the Postgres part we have loaded and created dimension and fact tables with the correct connection \n",
    "### !!! Before loading the data i have executed the sql file to create the database and the stg_tables."
   ]
  },
  {
   "cell_type": "code",
   "execution_count": 9,
   "metadata": {},
   "outputs": [
    {
     "name": "stdout",
     "output_type": "stream",
     "text": [
      "Table dim_users has 5000 rows.\n",
      "Table dim_products has 1000 rows.\n",
      "Table fact_transactions has 10000 rows.\n"
     ]
    }
   ],
   "source": [
    "# Verify row counts in analytical tables\n",
    "try:\n",
    "    with engine.connect() as connection:\n",
    "        for table in ['dim_users', 'dim_products', 'fact_transactions']:\n",
    "            result = connection.execute(text(f\"SELECT COUNT(*) FROM {table};\"))\n",
    "            count = result.scalar()\n",
    "            print(f\"Table {table} has {count} rows.\")\n",
    "except Exception as e:\n",
    "    print(f\"Error verifying analytical tables: {e}\")\n"
   ]
  },
  {
   "cell_type": "code",
   "execution_count": 10,
   "metadata": {},
   "outputs": [
    {
     "name": "stdout",
     "output_type": "stream",
     "text": [
      "Sample data from dim_users:\n",
      "('C4991', 'Brenda Davis', 'vsilva@yahoo.com', 56, 'Australia', datetime.datetime(2021, 7, 4, 0, 0))\n",
      "('C4374', 'Tony Thomas', 'gina10@gross.com', 25, 'USA', datetime.datetime(2020, 7, 31, 0, 0))\n",
      "('C4703', 'Monica Beck', 'kayla74@fitzgerald-nicholson.com', 34, 'India', datetime.datetime(2020, 6, 13, 0, 0))\n",
      "('C0674', 'John Hoffman DDS', 'fscott@newman.com', 63, 'Australia', datetime.datetime(2022, 5, 19, 0, 0))\n",
      "('C2684', 'Thomas Richardson', 'shall@gmail.com', 52, 'USA', datetime.datetime(2023, 7, 11, 0, 0))\n",
      "--------------------------------------------------\n",
      "Sample data from dim_products:\n",
      "('P00659', 'Card', 'Electronics', 'Howard Ltd', 1113.43, 706)\n",
      "('P00540', 'Anything', 'Books', 'Gardner, James and Wright', 880.6, 75)\n",
      "('P00564', 'Seven', 'Books', 'Kennedy, Nelson and Nguyen', 1918.13, 140)\n",
      "('P00091', 'Hospital', 'Books', 'Harrison and Sons', 1973.33, 339)\n",
      "('P00819', 'I', 'Home Appliances', 'Elliott, Carter and Rose', 1818.85, 471)\n",
      "--------------------------------------------------\n",
      "Sample data from fact_transactions:\n",
      "('T000001', 'C3025', 'P00447', 3, 421.0, datetime.datetime(2024, 4, 22, 10, 24, 22), 43, 'Sports', 'Green-Watson')\n",
      "('T000002', 'C1947', 'P00707', 5, 274.89, datetime.datetime(2024, 5, 3, 14, 42, 23), 34, 'Groceries', 'Watson LLC')\n",
      "('T000003', 'C2163', 'P00561', 1, 496.08, datetime.datetime(2024, 6, 14, 22, 7, 18), 49, 'Groceries', 'Shelton-Bates')\n",
      "('T000004', 'C4859', 'P00168', 2, 56.75, datetime.datetime(2024, 2, 22, 2, 6, 49), 43, 'Electronics', 'Salinas, Brown and Wright')\n",
      "('T000005', 'C3592', 'P00806', 4, 205.17, datetime.datetime(2024, 1, 1, 14, 50, 28), 31, 'Groceries', 'Caldwell Ltd')\n",
      "--------------------------------------------------\n"
     ]
    }
   ],
   "source": [
    "# Display sample rows from analytical tables\n",
    "try:\n",
    "    with engine.connect() as connection:\n",
    "        for table in ['dim_users', 'dim_products', 'fact_transactions']:\n",
    "            result = connection.execute(text(f\"SELECT * FROM {table} LIMIT 5;\"))\n",
    "            rows = result.fetchall()\n",
    "            print(f\"Sample data from {table}:\")\n",
    "            for row in rows:\n",
    "                print(row)\n",
    "            print(\"-\" * 50)\n",
    "except Exception as e:\n",
    "    print(f\"Error fetching sample data: {e}\")\n"
   ]
  },
  {
   "cell_type": "code",
   "execution_count": 11,
   "metadata": {},
   "outputs": [
    {
     "name": "stdout",
     "output_type": "stream",
     "text": [
      "All relationships in fact_transactions are valid.\n"
     ]
    }
   ],
   "source": [
    "# Validate referential integrity in fact_transactions \n",
    "try:\n",
    "    with engine.connect() as connection:\n",
    "        result = connection.execute(text(\"\"\"\n",
    "            SELECT COUNT(*) \n",
    "            FROM fact_transactions ft\n",
    "            LEFT JOIN dim_users du ON ft.\"CustomerID\" = du.\"CustomerID\"\n",
    "            LEFT JOIN dim_products dp ON ft.\"ProductID\" = dp.\"ProductID\"\n",
    "            WHERE du.\"CustomerID\" IS NULL OR dp.\"ProductID\" IS NULL;\n",
    "        \"\"\"))\n",
    "        count = result.scalar()\n",
    "        if count == 0:\n",
    "            print(\"All relationships in fact_transactions are valid.\")\n",
    "        else:\n",
    "            print(f\"{count} invalid relationship(s) found in fact_transactions.\")\n",
    "except Exception as e:\n",
    "    print(f\"Error validating relationships: {e}\")\n"
   ]
  },
  {
   "cell_type": "code",
   "execution_count": 12,
   "metadata": {},
   "outputs": [
    {
     "name": "stdout",
     "output_type": "stream",
     "text": [
      "Column types for dim_users:\n",
      "('Age', 'bigint')\n",
      "('SignupDate', 'timestamp without time zone')\n",
      "('CustomerID', 'text')\n",
      "('Name', 'text')\n",
      "('Email', 'text')\n",
      "('Country', 'text')\n",
      "--------------------------------------------------\n",
      "Column types for dim_products:\n",
      "('Price', 'double precision')\n",
      "('StockQuantity', 'bigint')\n",
      "('ProductID', 'text')\n",
      "('ProductName', 'text')\n",
      "('Category', 'text')\n",
      "('Brand', 'text')\n",
      "--------------------------------------------------\n",
      "Column types for fact_transactions:\n",
      "('TransactionDate', 'timestamp without time zone')\n",
      "('customerage', 'bigint')\n",
      "('Quantity', 'bigint')\n",
      "('Price', 'double precision')\n",
      "('TransactionID', 'text')\n",
      "('productbrand', 'text')\n",
      "('CustomerID', 'text')\n",
      "('ProductID', 'text')\n",
      "('productcategory', 'text')\n",
      "--------------------------------------------------\n"
     ]
    }
   ],
   "source": [
    "# Inspect column data types\n",
    "try:\n",
    "    with engine.connect() as connection:\n",
    "        for table in ['dim_users', 'dim_products', 'fact_transactions']:\n",
    "            result = connection.execute(text(f\"\"\"\n",
    "                SELECT column_name, data_type \n",
    "                FROM information_schema.columns \n",
    "                WHERE table_name = '{table}';\n",
    "            \"\"\"))\n",
    "            print(f\"Column types for {table}:\")\n",
    "            for row in result.fetchall():\n",
    "                print(row)\n",
    "            print(\"-\" * 50)\n",
    "except Exception as e:\n",
    "    print(f\"Error inspecting column types: {e}\")\n"
   ]
  },
  {
   "cell_type": "code",
   "execution_count": 13,
   "metadata": {},
   "outputs": [
    {
     "name": "stdout",
     "output_type": "stream",
     "text": [
      "top_5_products_quantity query executed successfully.\n",
      "top_5_products_revenue query executed successfully.\n",
      "customer_age_segmentation query executed successfully.\n",
      "monthly_sales_trends query executed successfully.\n",
      "top_customers_spending query executed successfully.\n"
     ]
    }
   ],
   "source": [
    "# Define SQL queries for analysis\n",
    "analysis_queries = {\n",
    "    \"top_5_products_quantity\": \"\"\"\n",
    "        SELECT p.\"ProductName\", SUM(f.\"Quantity\") AS total_quantity\n",
    "        FROM fact_transactions f\n",
    "        JOIN dim_products p ON f.\"ProductID\" = p.\"ProductID\"\n",
    "        GROUP BY p.\"ProductName\"\n",
    "        ORDER BY total_quantity DESC\n",
    "        LIMIT 5;\n",
    "    \"\"\",\n",
    "    \"top_5_products_revenue\": \"\"\"\n",
    "        SELECT p.\"ProductName\", SUM(f.\"Quantity\" * f.\"Price\") AS total_revenue\n",
    "        FROM fact_transactions f\n",
    "        JOIN dim_products p ON f.\"ProductID\" = p.\"ProductID\"\n",
    "        GROUP BY p.\"ProductName\"\n",
    "        ORDER BY total_revenue DESC\n",
    "        LIMIT 5;\n",
    "    \"\"\",\n",
    "    \"customer_age_segmentation\": \"\"\"\n",
    "        SELECT u.\"Age\", COUNT(*) AS customer_count\n",
    "        FROM dim_users u\n",
    "        GROUP BY u.\"Age\"\n",
    "        ORDER BY customer_count DESC;\n",
    "    \"\"\",\n",
    "    \"monthly_sales_trends\": \"\"\"\n",
    "        SELECT DATE_TRUNC('month', f.\"TransactionDate\") AS sales_month, SUM(f.\"Quantity\" * f.\"Price\") AS monthly_revenue\n",
    "        FROM fact_transactions f\n",
    "        GROUP BY sales_month\n",
    "        ORDER BY sales_month;\n",
    "    \"\"\",\n",
    "    \"top_customers_spending\": \"\"\"\n",
    "        SELECT u.\"Name\", SUM(f.\"Quantity\" * f.\"Price\") AS total_spending\n",
    "        FROM fact_transactions f\n",
    "        JOIN dim_users u ON f.\"CustomerID\" = u.\"CustomerID\"\n",
    "        GROUP BY u.\"Name\"\n",
    "        ORDER BY total_spending DESC\n",
    "        LIMIT 5;\n",
    "    \"\"\"\n",
    "}\n",
    "\n",
    "# Execute analysis queries and load results into Pandas DataFrames\n",
    "analysis_results = {}\n",
    "try:\n",
    "    with engine.connect() as connection:\n",
    "        for analysis, query in analysis_queries.items():\n",
    "            df = pd.read_sql_query(text(query), connection)\n",
    "            analysis_results[analysis] = df\n",
    "            print(f\"{analysis} query executed successfully.\")\n",
    "except Exception as e:\n",
    "    print(f\"Error executing analysis queries: {e}\")\n"
   ]
  },
  {
   "cell_type": "code",
   "execution_count": 14,
   "metadata": {},
   "outputs": [
    {
     "name": "stdout",
     "output_type": "stream",
     "text": [
      "\n",
      "Top 5 Products Quantity Results:\n",
      "  ProductName  total_quantity\n",
      "0         Low           248.0\n",
      "1      Action           168.0\n",
      "2   Everybody           166.0\n",
      "3     Success           153.0\n",
      "4       Begin           149.0\n",
      "\n",
      "Top 5 Products Revenue Results:\n",
      "  ProductName  total_revenue\n",
      "0         Low       59313.89\n",
      "1   Everybody       45266.40\n",
      "2      Action       41907.21\n",
      "3     Success       37368.11\n",
      "4       Begin       36679.99\n",
      "\n",
      "Customer Age Segmentation Results:\n",
      "   Age  customer_count\n",
      "0   26             135\n",
      "1   50             134\n",
      "2   22             124\n",
      "3   63             122\n",
      "4   55             120\n",
      "\n",
      "Monthly Sales Trends Results:\n",
      "  sales_month  monthly_revenue\n",
      "0  2023-12-01        192166.17\n",
      "1  2024-01-01        681356.31\n",
      "2  2024-02-01        582844.85\n",
      "3  2024-03-01        613422.38\n",
      "4  2024-04-01        672259.72\n",
      "\n",
      "Top Customers Spending Results:\n",
      "               Name  total_spending\n",
      "0   Daniel Williams        11348.10\n",
      "1          Dawn Fry         9139.47\n",
      "2  Christopher Cruz         9057.48\n",
      "3  Emily Richardson         8879.61\n",
      "4     Krista Kelley         8581.00\n"
     ]
    }
   ],
   "source": [
    "# Display analysis results\n",
    "for analysis, df in analysis_results.items():\n",
    "    print(f\"\\n{analysis.replace('_', ' ').title()} Results:\")\n",
    "    print(df.head())\n"
   ]
  },
  {
   "cell_type": "code",
   "execution_count": 15,
   "metadata": {},
   "outputs": [
    {
     "name": "stderr",
     "output_type": "stream",
     "text": [
      "C:\\Users\\asaye\\AppData\\Local\\Temp\\ipykernel_19924\\3744153662.py:8: FutureWarning: \n",
      "\n",
      "Passing `palette` without assigning `hue` is deprecated and will be removed in v0.14.0. Assign the `x` variable to `hue` and set `legend=False` for the same effect.\n",
      "\n",
      "  sns.barplot(\n"
     ]
    },
    {
     "data": {
      "image/png": "[encoded data removed]",
      "text/plain": [
       "<Figure size 1000x600 with 1 Axes>"
      ]
     },
     "metadata": {},
     "output_type": "display_data"
    }
   ],
   "source": [
    "import matplotlib.pyplot as plt\n",
    "import seaborn as sns\n",
    "\n",
    "# Visualization: Top 5 Best-Selling Products by Quantity\n",
    "top_products_qty = analysis_results['top_5_products_quantity']\n",
    "\n",
    "plt.figure(figsize=(10, 6))\n",
    "sns.barplot(\n",
    "    data=top_products_qty,\n",
    "    x='ProductName',\n",
    "    y='total_quantity',\n",
    "    palette='Blues_d'\n",
    ")\n",
    "plt.title('Top 5 Best-Selling Products by Quantity')\n",
    "plt.xlabel('Product Name')\n",
    "plt.ylabel('Total Quantity Sold')\n",
    "plt.xticks(rotation=45)\n",
    "plt.tight_layout()\n",
    "plt.show()\n"
   ]
  },
  {
   "cell_type": "code",
   "execution_count": 16,
   "metadata": {},
   "outputs": [
    {
     "name": "stderr",
     "output_type": "stream",
     "text": [
      "C:\\Users\\asaye\\AppData\\Local\\Temp\\ipykernel_19924\\3090157324.py:5: FutureWarning: \n",
      "\n",
      "Passing `palette` without assigning `hue` is deprecated and will be removed in v0.14.0. Assign the `x` variable to `hue` and set `legend=False` for the same effect.\n",
      "\n",
      "  sns.barplot(\n"
     ]
    },
    {
     "data": {
      "image/png": "[encoded data removed]",
      "text/plain": [
       "<Figure size 1000x600 with 1 Axes>"
      ]
     },
     "metadata": {},
     "output_type": "display_data"
    }
   ],
   "source": [
    "# Visualization: Top 5 Products by Revenue\n",
    "top_products_rev = analysis_results['top_5_products_revenue']\n",
    "\n",
    "plt.figure(figsize=(10, 6))\n",
    "sns.barplot(\n",
    "    data=top_products_rev,\n",
    "    x='ProductName',\n",
    "    y='total_revenue',\n",
    "    palette='Greens_d'\n",
    ")\n",
    "plt.title('Top 5 Revenue-Generating Products')\n",
    "plt.xlabel('Product Name')\n",
    "plt.ylabel('Total Revenue ($)')\n",
    "plt.xticks(rotation=45)\n",
    "plt.tight_layout()\n",
    "plt.show()\n"
   ]
  },
  {
   "cell_type": "code",
   "execution_count": 17,
   "metadata": {},
   "outputs": [
    {
     "name": "stderr",
     "output_type": "stream",
     "text": [
      "C:\\Users\\asaye\\AppData\\Local\\Temp\\ipykernel_19924\\902196283.py:5: FutureWarning: \n",
      "\n",
      "Passing `palette` without assigning `hue` is deprecated and will be removed in v0.14.0. Assign the `x` variable to `hue` and set `legend=False` for the same effect.\n",
      "\n",
      "  sns.barplot(\n"
     ]
    },
    {
     "data": {
      "image/png": "[encoded data removed]",
      "text/plain": [
       "<Figure size 1200x600 with 1 Axes>"
      ]
     },
     "metadata": {},
     "output_type": "display_data"
    }
   ],
   "source": [
    "# Visualization: Customer Age Segmentation\n",
    "customer_age_segmentation = analysis_results['customer_age_segmentation']\n",
    "\n",
    "plt.figure(figsize=(12, 6))\n",
    "sns.barplot(\n",
    "    data=customer_age_segmentation.sort_values(by='customer_count', ascending=False).head(10),\n",
    "    x='Age',\n",
    "    y='customer_count',\n",
    "    palette='Purples_d'\n",
    ")\n",
    "plt.title('Top 10 Age Groups by Customer Count')\n",
    "plt.xlabel('Age')\n",
    "plt.ylabel('Number of Customers')\n",
    "plt.xticks(rotation=45)\n",
    "plt.tight_layout()\n",
    "plt.show()\n"
   ]
  },
  {
   "cell_type": "code",
   "execution_count": 18,
   "metadata": {},
   "outputs": [
    {
     "data": {
      "image/png": "[encoded data removed]",
      "text/plain": [
       "<Figure size 1200x600 with 1 Axes>"
      ]
     },
     "metadata": {},
     "output_type": "display_data"
    }
   ],
   "source": [
    "# Visualization: Monthly Sales Trends\n",
    "monthly_sales = analysis_results['monthly_sales_trends']\n",
    "\n",
    "plt.figure(figsize=(12, 6))\n",
    "sns.lineplot(\n",
    "    data=monthly_sales,\n",
    "    x='sales_month',\n",
    "    y='monthly_revenue',\n",
    "    marker='o',\n",
    "    color='b'\n",
    ")\n",
    "plt.title('Monthly Sales Trends')\n",
    "plt.xlabel('Month')\n",
    "plt.ylabel('Total Revenue ($)')\n",
    "plt.xticks(rotation=45)\n",
    "plt.tight_layout()\n",
    "plt.show()\n"
   ]
  }
 ],
 "metadata": {
  "kernelspec": {
   "display_name": "Python 3",
   "language": "python",
   "name": "python3"
  },
  "language_info": {
   "codemirror_mode": {
    "name": "ipython",
    "version": 3
   },
   "file_extension": ".py",
   "mimetype": "text/x-python",
   "name": "python",
   "nbconvert_exporter": "python",
   "pygments_lexer": "ipython3",
   "version": "3.12.4"
  }
 },
 "nbformat": 4,
 "nbformat_minor": 2
}
